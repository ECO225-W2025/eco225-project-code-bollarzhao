{
 "cells": [
  {
   "cell_type": "markdown",
   "metadata": {},
   "source": [
    "# Project Title: Examine the Key Differences in Funding Patterns Before and After Major Economic Events\n",
    "\n",
    "## Introduction \n",
    "\n",
    "By using \"startup investments\" dataset, the research is about how local government policies for economic conditions is different regions influence the amount and frequency of startup investments.\n",
    "\n",
    "## economic environment"
   ]
  },
  {
   "cell_type": "code",
   "execution_count": 1,
   "metadata": {},
   "outputs": [
    {
     "name": "stdout",
     "output_type": "stream",
     "text": [
      "\n",
      "\u001b[1m[\u001b[0m\u001b[34;49mnotice\u001b[0m\u001b[1;39;49m]\u001b[0m\u001b[39;49m A new release of pip is available: \u001b[0m\u001b[31;49m23.2.1\u001b[0m\u001b[39;49m -> \u001b[0m\u001b[32;49m24.3.1\u001b[0m\n",
      "\u001b[1m[\u001b[0m\u001b[34;49mnotice\u001b[0m\u001b[1;39;49m]\u001b[0m\u001b[39;49m To update, run: \u001b[0m\u001b[32;49mpip3 install --upgrade pip\u001b[0m\n",
      "Note: you may need to restart the kernel to use updated packages.\n"
     ]
    }
   ],
   "source": [
    "pip install -q nbconvert"
   ]
  },
  {
   "cell_type": "code",
   "execution_count": 2,
   "metadata": {},
   "outputs": [
    {
     "name": "stdout",
     "output_type": "stream",
     "text": [
      "\n",
      "\u001b[1m[\u001b[0m\u001b[34;49mnotice\u001b[0m\u001b[1;39;49m]\u001b[0m\u001b[39;49m A new release of pip is available: \u001b[0m\u001b[31;49m23.2.1\u001b[0m\u001b[39;49m -> \u001b[0m\u001b[32;49m24.3.1\u001b[0m\n",
      "\u001b[1m[\u001b[0m\u001b[34;49mnotice\u001b[0m\u001b[1;39;49m]\u001b[0m\u001b[39;49m To update, run: \u001b[0m\u001b[32;49mpip3 install --upgrade pip\u001b[0m\n",
      "Note: you may need to restart the kernel to use updated packages.\n"
     ]
    }
   ],
   "source": [
    "pip install -q pyppeteer"
   ]
  },
  {
   "cell_type": "code",
   "execution_count": 3,
   "metadata": {},
   "outputs": [
    {
     "name": "stdout",
     "output_type": "stream",
     "text": [
      "\n",
      "\u001b[1m[\u001b[0m\u001b[34;49mnotice\u001b[0m\u001b[1;39;49m]\u001b[0m\u001b[39;49m A new release of pip is available: \u001b[0m\u001b[31;49m23.2.1\u001b[0m\u001b[39;49m -> \u001b[0m\u001b[32;49m24.3.1\u001b[0m\n",
      "\u001b[1m[\u001b[0m\u001b[34;49mnotice\u001b[0m\u001b[1;39;49m]\u001b[0m\u001b[39;49m To update, run: \u001b[0m\u001b[32;49mpip3 install --upgrade pip\u001b[0m\n",
      "Note: you may need to restart the kernel to use updated packages.\n"
     ]
    }
   ],
   "source": [
    "pip install -q qeds"
   ]
  },
  {
   "cell_type": "code",
   "execution_count": 3,
   "metadata": {},
   "outputs": [],
   "source": [
    "import pandas as pd\n",
    "import numpy as np\n",
    "\n",
    "from IPython.display import display"
   ]
  },
  {
   "cell_type": "code",
   "execution_count": 8,
   "metadata": {},
   "outputs": [
    {
     "name": "stderr",
     "output_type": "stream",
     "text": [
      "/var/folders/lh/v36j2zlj0t9_xqpxcj3l9qfw0000gn/T/ipykernel_9161/3389580221.py:1: DtypeWarning: Columns (3,7,9,10,17,18,21,22,23,25,26,29,30,37) have mixed types. Specify dtype option on import or set low_memory=False.\n",
      "  objects = pd.read_csv(\"/Users/zzybollar/Downloads/archive/objects.csv\")\n"
     ]
    }
   ],
   "source": [
    "objects = pd.read_csv(\"/Users/zzybollar/Downloads/archive/objects.csv\")"
   ]
  },
  {
   "cell_type": "code",
   "execution_count": 9,
   "metadata": {},
   "outputs": [
    {
     "data": {
      "text/plain": [
       "array(['USA', 'ISR', 'GBR', 'LUX', 'CAN', 'RUS', 'DEU', 'IRL', 'FRA',\n",
       "       'FIN', 'NLD', 'CHE', 'AFG', 'KOR', 'ITA', 'JPN', 'SGP', 'AUS',\n",
       "       'SWE', 'BRA', 'ESP', 'DNK', 'CHN', 'ZAF', 'IDN', 'IND', 'NZL',\n",
       "       'BEL', 'DOM', 'CZE', 'POL', 'THA', 'ARG', 'EST', 'GIN', 'CYP',\n",
       "       'PRT', 'HKG', 'ROM', 'EGY', 'QAT', 'AUT', 'NOR', 'MTQ', 'BGR',\n",
       "       'ARE', 'TUR', 'VNM', 'MUS', 'LVA', 'CHL', 'UKR', 'SVN', 'HUN',\n",
       "       'NIC', 'BRB', 'TUN', 'UMI', 'SAU', 'PHL', 'CRI', 'GRC', 'VGB',\n",
       "       'PAK', 'ISL', 'LTU', 'MEX', 'PER', 'NGA', 'GIB', 'CYM', 'PRK',\n",
       "       'TWN', 'MYS', 'ANT', 'MLT', 'URY', 'BIH', 'HRV', 'JOR', 'BGD',\n",
       "       'KEN', 'UZB', 'MKD', 'ARM', 'CIV', 'SDN', 'MAR', 'BOL', 'CSS',\n",
       "       'LBN', 'AZE', 'LKA', 'KGZ', 'VEN', 'RWA', 'UGA', 'BHR', 'KWT',\n",
       "       'WSM', 'BLR', 'COL', 'REU', 'ARA', 'PRI', 'ATG', 'ECU', 'PAN',\n",
       "       'KAZ', 'LIE', 'LAO', 'ALB', 'BMU', 'GHA', 'IRQ', 'BHS', 'JAM',\n",
       "       'OMN', 'CMR', 'CUB', 'IRN', 'BLZ', 'MMR', 'SWZ', 'FST', 'SVK',\n",
       "       'AGO', 'MDA', 'NPL', 'PRY', 'SLV', 'SLE', 'NAM', 'NFK', 'GEO',\n",
       "       'TLE', 'MOZ', 'PST', 'FJI', 'MCO', 'AND', 'SEN', 'ZMB', 'SMR',\n",
       "       'MDV', 'YEM', 'DMA', 'BRN', 'HTI', 'GTM', 'AIA', 'SUR', 'CXI',\n",
       "       'SYR', 'SOM', 'ZWE', 'VIR', 'BFA', 'SYC', 'BEN', 'MDG', 'PCN',\n",
       "       'HND', 'BWA', 'DZA', 'GRD', 'TZA', 'TTO', 'VCT', 'LBR', 'IOT',\n",
       "       'GLP', 'COG', 'LBY', 'MAC', 'KHM', 'LSO', 'NRU', 'ETH', 'BDI',\n",
       "       'HMI', 'TJK', 'NER', 'NCL'], dtype=object)"
      ]
     },
     "execution_count": 9,
     "metadata": {},
     "output_type": "execute_result"
    }
   ],
   "source": [
    "offices = pd.read_csv(\"/Users/zzybollar/Downloads/archive/offices.csv\")\n",
    "unique_countries = offices[\"country_code\"].unique()\n",
    "unique_countries"
   ]
  },
  {
   "cell_type": "code",
   "execution_count": 10,
   "metadata": {},
   "outputs": [],
   "source": [
    "US_offices = offices[offices[\"country_code\"]==\"USA\"]\n",
    "US_offices = US_offices[[\"id\",\"region\",\"city\",\"zip_code\",\"state_code\",\"country_code\"]]"
   ]
  },
  {
   "cell_type": "code",
   "execution_count": 44,
   "metadata": {},
   "outputs": [
    {
     "data": {
      "text/html": [
       "<div>\n",
       "<style scoped>\n",
       "    .dataframe tbody tr th:only-of-type {\n",
       "        vertical-align: middle;\n",
       "    }\n",
       "\n",
       "    .dataframe tbody tr th {\n",
       "        vertical-align: top;\n",
       "    }\n",
       "\n",
       "    .dataframe thead th {\n",
       "        text-align: right;\n",
       "    }\n",
       "</style>\n",
       "<table border=\"1\" class=\"dataframe\">\n",
       "  <thead>\n",
       "    <tr style=\"text-align: right;\">\n",
       "      <th></th>\n",
       "      <th>id</th>\n",
       "      <th>region</th>\n",
       "      <th>city</th>\n",
       "      <th>zip_code</th>\n",
       "      <th>country_code</th>\n",
       "      <th>Life Expectancy World Bank</th>\n",
       "    </tr>\n",
       "  </thead>\n",
       "  <tbody>\n",
       "    <tr>\n",
       "      <th>0</th>\n",
       "      <td>1</td>\n",
       "      <td>Seattle</td>\n",
       "      <td>Seattle</td>\n",
       "      <td>98104</td>\n",
       "      <td>USA</td>\n",
       "      <td>76.836585</td>\n",
       "    </tr>\n",
       "    <tr>\n",
       "      <th>1</th>\n",
       "      <td>1</td>\n",
       "      <td>Seattle</td>\n",
       "      <td>Seattle</td>\n",
       "      <td>98104</td>\n",
       "      <td>USA</td>\n",
       "      <td>76.936585</td>\n",
       "    </tr>\n",
       "    <tr>\n",
       "      <th>2</th>\n",
       "      <td>1</td>\n",
       "      <td>Seattle</td>\n",
       "      <td>Seattle</td>\n",
       "      <td>98104</td>\n",
       "      <td>USA</td>\n",
       "      <td>77.036585</td>\n",
       "    </tr>\n",
       "    <tr>\n",
       "      <th>3</th>\n",
       "      <td>1</td>\n",
       "      <td>Seattle</td>\n",
       "      <td>Seattle</td>\n",
       "      <td>98104</td>\n",
       "      <td>USA</td>\n",
       "      <td>77.487805</td>\n",
       "    </tr>\n",
       "    <tr>\n",
       "      <th>5</th>\n",
       "      <td>1</td>\n",
       "      <td>Seattle</td>\n",
       "      <td>Seattle</td>\n",
       "      <td>98104</td>\n",
       "      <td>USA</td>\n",
       "      <td>77.687805</td>\n",
       "    </tr>\n",
       "    <tr>\n",
       "      <th>...</th>\n",
       "      <td>...</td>\n",
       "      <td>...</td>\n",
       "      <td>...</td>\n",
       "      <td>...</td>\n",
       "      <td>...</td>\n",
       "      <td>...</td>\n",
       "    </tr>\n",
       "    <tr>\n",
       "      <th>2084997</th>\n",
       "      <td>112718</td>\n",
       "      <td>SF Bay</td>\n",
       "      <td>San Mateo</td>\n",
       "      <td>94403</td>\n",
       "      <td>USA</td>\n",
       "      <td>78.841463</td>\n",
       "    </tr>\n",
       "    <tr>\n",
       "      <th>2084998</th>\n",
       "      <td>112718</td>\n",
       "      <td>SF Bay</td>\n",
       "      <td>San Mateo</td>\n",
       "      <td>94403</td>\n",
       "      <td>USA</td>\n",
       "      <td>78.690244</td>\n",
       "    </tr>\n",
       "    <tr>\n",
       "      <th>2084999</th>\n",
       "      <td>112718</td>\n",
       "      <td>SF Bay</td>\n",
       "      <td>San Mateo</td>\n",
       "      <td>94403</td>\n",
       "      <td>USA</td>\n",
       "      <td>78.539024</td>\n",
       "    </tr>\n",
       "    <tr>\n",
       "      <th>2085001</th>\n",
       "      <td>112718</td>\n",
       "      <td>SF Bay</td>\n",
       "      <td>San Mateo</td>\n",
       "      <td>94403</td>\n",
       "      <td>USA</td>\n",
       "      <td>78.639024</td>\n",
       "    </tr>\n",
       "    <tr>\n",
       "      <th>2085002</th>\n",
       "      <td>112718</td>\n",
       "      <td>SF Bay</td>\n",
       "      <td>San Mateo</td>\n",
       "      <td>94403</td>\n",
       "      <td>USA</td>\n",
       "      <td>78.787805</td>\n",
       "    </tr>\n",
       "  </tbody>\n",
       "</table>\n",
       "<p>1868751 rows × 6 columns</p>\n",
       "</div>"
      ],
      "text/plain": [
       "             id   region       city zip_code country_code  \\\n",
       "0             1  Seattle    Seattle    98104          USA   \n",
       "1             1  Seattle    Seattle    98104          USA   \n",
       "2             1  Seattle    Seattle    98104          USA   \n",
       "3             1  Seattle    Seattle    98104          USA   \n",
       "5             1  Seattle    Seattle    98104          USA   \n",
       "...         ...      ...        ...      ...          ...   \n",
       "2084997  112718   SF Bay  San Mateo    94403          USA   \n",
       "2084998  112718   SF Bay  San Mateo    94403          USA   \n",
       "2084999  112718   SF Bay  San Mateo    94403          USA   \n",
       "2085001  112718   SF Bay  San Mateo    94403          USA   \n",
       "2085002  112718   SF Bay  San Mateo    94403          USA   \n",
       "\n",
       "         Life Expectancy World Bank  \n",
       "0                         76.836585  \n",
       "1                         76.936585  \n",
       "2                         77.036585  \n",
       "3                         77.487805  \n",
       "5                         77.687805  \n",
       "...                             ...  \n",
       "2084997                   78.841463  \n",
       "2084998                   78.690244  \n",
       "2084999                   78.539024  \n",
       "2085001                   78.639024  \n",
       "2085002                   78.787805  \n",
       "\n",
       "[1868751 rows x 6 columns]"
      ]
     },
     "execution_count": 44,
     "metadata": {},
     "output_type": "execute_result"
    }
   ],
   "source": [
    "life_expectancy = pd.read_csv(\"datasets/life expectancy.csv\")\n",
    "life_expectancy.rename(columns = {\"Country Code\": \"country_code\"},inplace = True)\n",
    "combined_data_1 = pd.merge(offices, life_expectancy, on = 'country_code',how='inner')\n",
    "combined_data_1 = combined_data_1[[\"id\",\"region\",\"city\",\"zip_code\",\n",
    "                                   \"country_code\",\"Life Expectancy World Bank\"]]\n",
    "combined_data_1.drop_duplicates(inplace=True)\n",
    "combined_data_1\n"
   ]
  },
  {
   "cell_type": "code",
   "execution_count": 10,
   "metadata": {},
   "outputs": [
    {
     "data": {
      "text/html": [
       "<div>\n",
       "<style scoped>\n",
       "    .dataframe tbody tr th:only-of-type {\n",
       "        vertical-align: middle;\n",
       "    }\n",
       "\n",
       "    .dataframe tbody tr th {\n",
       "        vertical-align: top;\n",
       "    }\n",
       "\n",
       "    .dataframe thead th {\n",
       "        text-align: right;\n",
       "    }\n",
       "</style>\n",
       "<table border=\"1\" class=\"dataframe\">\n",
       "  <thead>\n",
       "    <tr style=\"text-align: right;\">\n",
       "      <th></th>\n",
       "      <th>funding_round_id</th>\n",
       "      <th>funded_object_id</th>\n",
       "      <th>investor_object_id</th>\n",
       "    </tr>\n",
       "  </thead>\n",
       "  <tbody>\n",
       "    <tr>\n",
       "      <th>0</th>\n",
       "      <td>1</td>\n",
       "      <td>c:4</td>\n",
       "      <td>f:1</td>\n",
       "    </tr>\n",
       "    <tr>\n",
       "      <th>1</th>\n",
       "      <td>1</td>\n",
       "      <td>c:4</td>\n",
       "      <td>f:2</td>\n",
       "    </tr>\n",
       "    <tr>\n",
       "      <th>2</th>\n",
       "      <td>3</td>\n",
       "      <td>c:5</td>\n",
       "      <td>f:4</td>\n",
       "    </tr>\n",
       "    <tr>\n",
       "      <th>3</th>\n",
       "      <td>4</td>\n",
       "      <td>c:5</td>\n",
       "      <td>f:1</td>\n",
       "    </tr>\n",
       "    <tr>\n",
       "      <th>4</th>\n",
       "      <td>4</td>\n",
       "      <td>c:5</td>\n",
       "      <td>f:5</td>\n",
       "    </tr>\n",
       "    <tr>\n",
       "      <th>...</th>\n",
       "      <td>...</td>\n",
       "      <td>...</td>\n",
       "      <td>...</td>\n",
       "    </tr>\n",
       "    <tr>\n",
       "      <th>80897</th>\n",
       "      <td>57882</td>\n",
       "      <td>c:285244</td>\n",
       "      <td>p:267312</td>\n",
       "    </tr>\n",
       "    <tr>\n",
       "      <th>80898</th>\n",
       "      <td>57912</td>\n",
       "      <td>c:60389</td>\n",
       "      <td>p:268570</td>\n",
       "    </tr>\n",
       "    <tr>\n",
       "      <th>80899</th>\n",
       "      <td>57929</td>\n",
       "      <td>c:286183</td>\n",
       "      <td>p:365</td>\n",
       "    </tr>\n",
       "    <tr>\n",
       "      <th>80900</th>\n",
       "      <td>57929</td>\n",
       "      <td>c:286183</td>\n",
       "      <td>p:176466</td>\n",
       "    </tr>\n",
       "    <tr>\n",
       "      <th>80901</th>\n",
       "      <td>57929</td>\n",
       "      <td>c:286183</td>\n",
       "      <td>p:268577</td>\n",
       "    </tr>\n",
       "  </tbody>\n",
       "</table>\n",
       "<p>80800 rows × 3 columns</p>\n",
       "</div>"
      ],
      "text/plain": [
       "       funding_round_id funded_object_id investor_object_id\n",
       "0                     1              c:4                f:1\n",
       "1                     1              c:4                f:2\n",
       "2                     3              c:5                f:4\n",
       "3                     4              c:5                f:1\n",
       "4                     4              c:5                f:5\n",
       "...                 ...              ...                ...\n",
       "80897             57882         c:285244           p:267312\n",
       "80898             57912          c:60389           p:268570\n",
       "80899             57929         c:286183              p:365\n",
       "80900             57929         c:286183           p:176466\n",
       "80901             57929         c:286183           p:268577\n",
       "\n",
       "[80800 rows x 3 columns]"
      ]
     },
     "execution_count": 10,
     "metadata": {},
     "output_type": "execute_result"
    }
   ],
   "source": [
    "investments = pd.read_csv(\"/Users/zzybollar/Downloads/archive/investments.csv\")\n",
    "investments = investments.drop(columns=['id', 'created_at', 'updated_at'])\n",
    "investments.drop_duplicates()"
   ]
  },
  {
   "cell_type": "code",
   "execution_count": null,
   "metadata": {},
   "outputs": [],
   "source": []
  }
 ],
 "metadata": {
  "kernelspec": {
   "display_name": "Python 3",
   "language": "python",
   "name": "python3"
  },
  "language_info": {
   "codemirror_mode": {
    "name": "ipython",
    "version": 3
   },
   "file_extension": ".py",
   "mimetype": "text/x-python",
   "name": "python",
   "nbconvert_exporter": "python",
   "pygments_lexer": "ipython3",
   "version": "3.12.0"
  }
 },
 "nbformat": 4,
 "nbformat_minor": 2
}
