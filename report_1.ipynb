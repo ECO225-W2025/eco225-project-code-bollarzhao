{
 "cells": [
  {
   "cell_type": "markdown",
   "metadata": {},
   "source": [
    "## Report 1"
   ]
  },
  {
   "cell_type": "markdown",
   "metadata": {},
   "source": [
    "## Title: The changes of investment trends from 2000 to 2013\n",
    "\n",
    "## Main dataset: Startup investments"
   ]
  },
  {
   "cell_type": "markdown",
   "metadata": {},
   "source": [
    "# Summary:\n",
    "    The research aims in analyzing the trend of changing of investing preference of investors. "
   ]
  },
  {
   "cell_type": "code",
   "execution_count": 5,
   "metadata": {},
   "outputs": [
    {
     "name": "stdout",
     "output_type": "stream",
     "text": [
      "\n",
      "\u001b[1m[\u001b[0m\u001b[34;49mnotice\u001b[0m\u001b[1;39;49m]\u001b[0m\u001b[39;49m A new release of pip is available: \u001b[0m\u001b[31;49m23.2.1\u001b[0m\u001b[39;49m -> \u001b[0m\u001b[32;49m25.0\u001b[0m\n",
      "\u001b[1m[\u001b[0m\u001b[34;49mnotice\u001b[0m\u001b[1;39;49m]\u001b[0m\u001b[39;49m To update, run: \u001b[0m\u001b[32;49mpip3 install --upgrade pip\u001b[0m\n",
      "Note: you may need to restart the kernel to use updated packages.\n"
     ]
    }
   ],
   "source": [
    "pip install -q nbconvert"
   ]
  },
  {
   "cell_type": "code",
   "execution_count": 3,
   "metadata": {},
   "outputs": [
    {
     "name": "stdout",
     "output_type": "stream",
     "text": [
      "\n",
      "\u001b[1m[\u001b[0m\u001b[34;49mnotice\u001b[0m\u001b[1;39;49m]\u001b[0m\u001b[39;49m A new release of pip is available: \u001b[0m\u001b[31;49m23.2.1\u001b[0m\u001b[39;49m -> \u001b[0m\u001b[32;49m25.0\u001b[0m\n",
      "\u001b[1m[\u001b[0m\u001b[34;49mnotice\u001b[0m\u001b[1;39;49m]\u001b[0m\u001b[39;49m To update, run: \u001b[0m\u001b[32;49mpip3 install --upgrade pip\u001b[0m\n",
      "Note: you may need to restart the kernel to use updated packages.\n"
     ]
    }
   ],
   "source": [
    "pip install -q pyppeteer\n"
   ]
  },
  {
   "cell_type": "code",
   "execution_count": 4,
   "metadata": {},
   "outputs": [
    {
     "name": "stdout",
     "output_type": "stream",
     "text": [
      "\n",
      "\u001b[1m[\u001b[0m\u001b[34;49mnotice\u001b[0m\u001b[1;39;49m]\u001b[0m\u001b[39;49m A new release of pip is available: \u001b[0m\u001b[31;49m23.2.1\u001b[0m\u001b[39;49m -> \u001b[0m\u001b[32;49m25.0\u001b[0m\n",
      "\u001b[1m[\u001b[0m\u001b[34;49mnotice\u001b[0m\u001b[1;39;49m]\u001b[0m\u001b[39;49m To update, run: \u001b[0m\u001b[32;49mpip3 install --upgrade pip\u001b[0m\n",
      "Note: you may need to restart the kernel to use updated packages.\n"
     ]
    }
   ],
   "source": [
    "pip install -q qeds"
   ]
  },
  {
   "cell_type": "code",
   "execution_count": 7,
   "metadata": {},
   "outputs": [],
   "source": [
    "import pandas as pd\n",
    "import numpy as np\n",
    "import matplotlib.pyplot as plt\n",
    "from IPython.display import display\n",
    "\n",
    "import qeds"
   ]
  },
  {
   "cell_type": "code",
   "execution_count": 8,
   "metadata": {},
   "outputs": [],
   "source": [
    "investments = pd.read_csv(\"/Users/zzybollar/Downloads/archive/investments.csv\")"
   ]
  },
  {
   "cell_type": "code",
   "execution_count": 11,
   "metadata": {},
   "outputs": [
    {
     "data": {
      "text/html": [
       "<div>\n",
       "<style scoped>\n",
       "    .dataframe tbody tr th:only-of-type {\n",
       "        vertical-align: middle;\n",
       "    }\n",
       "\n",
       "    .dataframe tbody tr th {\n",
       "        vertical-align: top;\n",
       "    }\n",
       "\n",
       "    .dataframe thead th {\n",
       "        text-align: right;\n",
       "    }\n",
       "</style>\n",
       "<table border=\"1\" class=\"dataframe\">\n",
       "  <thead>\n",
       "    <tr style=\"text-align: right;\">\n",
       "      <th></th>\n",
       "      <th>id</th>\n",
       "      <th>fund_id</th>\n",
       "      <th>object_id</th>\n",
       "      <th>name</th>\n",
       "      <th>funded_at</th>\n",
       "      <th>raised_amount</th>\n",
       "      <th>raised_currency_code</th>\n",
       "      <th>raised_amount_log</th>\n",
       "    </tr>\n",
       "  </thead>\n",
       "  <tbody>\n",
       "    <tr>\n",
       "      <th>0</th>\n",
       "      <td>1</td>\n",
       "      <td>1</td>\n",
       "      <td>f:371</td>\n",
       "      <td>Second Fund</td>\n",
       "      <td>2008-12-16</td>\n",
       "      <td>300000000.0</td>\n",
       "      <td>USD</td>\n",
       "      <td>19.519293</td>\n",
       "    </tr>\n",
       "    <tr>\n",
       "      <th>1</th>\n",
       "      <td>4</td>\n",
       "      <td>4</td>\n",
       "      <td>f:17</td>\n",
       "      <td>Sequoia Israel Fourth Fund</td>\n",
       "      <td>2008-12-17</td>\n",
       "      <td>200750000.0</td>\n",
       "      <td>USD</td>\n",
       "      <td>19.117571</td>\n",
       "    </tr>\n",
       "    <tr>\n",
       "      <th>2</th>\n",
       "      <td>5</td>\n",
       "      <td>5</td>\n",
       "      <td>f:951</td>\n",
       "      <td>Tenth fund</td>\n",
       "      <td>2008-08-11</td>\n",
       "      <td>650000000.0</td>\n",
       "      <td>USD</td>\n",
       "      <td>20.292483</td>\n",
       "    </tr>\n",
       "    <tr>\n",
       "      <th>3</th>\n",
       "      <td>7</td>\n",
       "      <td>7</td>\n",
       "      <td>f:519</td>\n",
       "      <td>Third fund</td>\n",
       "      <td>2008-05-20</td>\n",
       "      <td>200000000.0</td>\n",
       "      <td>USD</td>\n",
       "      <td>19.113828</td>\n",
       "    </tr>\n",
       "    <tr>\n",
       "      <th>4</th>\n",
       "      <td>8</td>\n",
       "      <td>8</td>\n",
       "      <td>f:1811</td>\n",
       "      <td>Inventus Capital Partners Fund I LP</td>\n",
       "      <td>2007-11-30</td>\n",
       "      <td>51750000.0</td>\n",
       "      <td>USD</td>\n",
       "      <td>17.761935</td>\n",
       "    </tr>\n",
       "    <tr>\n",
       "      <th>...</th>\n",
       "      <td>...</td>\n",
       "      <td>...</td>\n",
       "      <td>...</td>\n",
       "      <td>...</td>\n",
       "      <td>...</td>\n",
       "      <td>...</td>\n",
       "      <td>...</td>\n",
       "      <td>...</td>\n",
       "    </tr>\n",
       "    <tr>\n",
       "      <th>1414</th>\n",
       "      <td>1697</td>\n",
       "      <td>1697</td>\n",
       "      <td>f:101</td>\n",
       "      <td>Fund V</td>\n",
       "      <td>2013-12-11</td>\n",
       "      <td>150000000.0</td>\n",
       "      <td>USD</td>\n",
       "      <td>18.826146</td>\n",
       "    </tr>\n",
       "    <tr>\n",
       "      <th>1415</th>\n",
       "      <td>1698</td>\n",
       "      <td>1698</td>\n",
       "      <td>f:7331</td>\n",
       "      <td>JANVEST Technologies LP I</td>\n",
       "      <td>2013-03-19</td>\n",
       "      <td>5.0</td>\n",
       "      <td>USD</td>\n",
       "      <td>1.791759</td>\n",
       "    </tr>\n",
       "    <tr>\n",
       "      <th>1416</th>\n",
       "      <td>1699</td>\n",
       "      <td>1699</td>\n",
       "      <td>f:7791</td>\n",
       "      <td>Fund II</td>\n",
       "      <td>2013-12-11</td>\n",
       "      <td>5000000.0</td>\n",
       "      <td>USD</td>\n",
       "      <td>15.424949</td>\n",
       "    </tr>\n",
       "    <tr>\n",
       "      <th>1417</th>\n",
       "      <td>1700</td>\n",
       "      <td>1700</td>\n",
       "      <td>f:15091</td>\n",
       "      <td>Fund I</td>\n",
       "      <td>2013-12-11</td>\n",
       "      <td>1100000.0</td>\n",
       "      <td>USD</td>\n",
       "      <td>13.910822</td>\n",
       "    </tr>\n",
       "    <tr>\n",
       "      <th>1418</th>\n",
       "      <td>1701</td>\n",
       "      <td>1701</td>\n",
       "      <td>f:5920</td>\n",
       "      <td>Rochester Angel Fund</td>\n",
       "      <td>2013-12-12</td>\n",
       "      <td>2300000.0</td>\n",
       "      <td>USD</td>\n",
       "      <td>14.648420</td>\n",
       "    </tr>\n",
       "  </tbody>\n",
       "</table>\n",
       "<p>1419 rows × 8 columns</p>\n",
       "</div>"
      ],
      "text/plain": [
       "        id  fund_id object_id                                 name  funded_at  \\\n",
       "0        1        1     f:371                          Second Fund 2008-12-16   \n",
       "1        4        4      f:17           Sequoia Israel Fourth Fund 2008-12-17   \n",
       "2        5        5     f:951                           Tenth fund 2008-08-11   \n",
       "3        7        7     f:519                           Third fund 2008-05-20   \n",
       "4        8        8    f:1811  Inventus Capital Partners Fund I LP 2007-11-30   \n",
       "...    ...      ...       ...                                  ...        ...   \n",
       "1414  1697     1697     f:101                               Fund V 2013-12-11   \n",
       "1415  1698     1698    f:7331            JANVEST Technologies LP I 2013-03-19   \n",
       "1416  1699     1699    f:7791                              Fund II 2013-12-11   \n",
       "1417  1700     1700   f:15091                               Fund I 2013-12-11   \n",
       "1418  1701     1701    f:5920                 Rochester Angel Fund 2013-12-12   \n",
       "\n",
       "      raised_amount raised_currency_code  raised_amount_log  \n",
       "0       300000000.0                  USD          19.519293  \n",
       "1       200750000.0                  USD          19.117571  \n",
       "2       650000000.0                  USD          20.292483  \n",
       "3       200000000.0                  USD          19.113828  \n",
       "4        51750000.0                  USD          17.761935  \n",
       "...             ...                  ...                ...  \n",
       "1414    150000000.0                  USD          18.826146  \n",
       "1415            5.0                  USD           1.791759  \n",
       "1416      5000000.0                  USD          15.424949  \n",
       "1417      1100000.0                  USD          13.910822  \n",
       "1418      2300000.0                  USD          14.648420  \n",
       "\n",
       "[1419 rows x 8 columns]"
      ]
     },
     "execution_count": 11,
     "metadata": {},
     "output_type": "execute_result"
    }
   ],
   "source": [
    "funds = pd.read_csv(\"/Users/zzybollar/Downloads/archive/funds.csv\")\n",
    "funds['funded_at'] = pd.to_datetime(funds['funded_at'], errors='coerce')\n",
    "\n",
    "start_date = \"2000-01-01\"\n",
    "end_date = \"2013-12-31\"\n",
    "\n",
    "funding_data = funds[(funds['funded_at'] >= start_date) & (funds['funded_at'] <= end_date)].copy()\n",
    "funding_data = funding_data[[\"id\", \"fund_id\", \"object_id\", \"name\", \"funded_at\", \"raised_amount\", \"raised_currency_code\"]]\n",
    "funding_data.dropna(subset=[\"raised_amount\"], inplace=True)\n",
    "funding_data[\"raised_amount_log\"] = np.log1p(funding_data[\"raised_amount\"])  # log(1 + x) to handle zero values\n",
    "funding_data.reset_index(drop=True, inplace=True)\n",
    "funding_data\n"
   ]
  },
  {
   "cell_type": "code",
   "execution_count": 16,
   "metadata": {},
   "outputs": [],
   "source": [
    "investments = pd.read_csv(\"/Users/zzybollar/Downloads/archive/investments.csv\")"
   ]
  },
  {
   "cell_type": "code",
   "execution_count": 17,
   "metadata": {},
   "outputs": [],
   "source": [
    "investments = investments[[\"id\", \"investor_object_id\"]]"
   ]
  },
  {
   "cell_type": "code",
   "execution_count": 12,
   "metadata": {},
   "outputs": [],
   "source": [
    "merged_data = funding_data.merge(investments, on=\"id\", how=\"left\")\n",
    "merged_data.dropna(subset=[\"investor_object_id\"], inplace=True)\n",
    "merged_data.reset_index(drop=True, inplace=True)\n"
   ]
  },
  {
   "cell_type": "code",
   "execution_count": null,
   "metadata": {},
   "outputs": [],
   "source": []
  }
 ],
 "metadata": {
  "kernelspec": {
   "display_name": "Python 3",
   "language": "python",
   "name": "python3"
  },
  "language_info": {
   "codemirror_mode": {
    "name": "ipython",
    "version": 3
   },
   "file_extension": ".py",
   "mimetype": "text/x-python",
   "name": "python",
   "nbconvert_exporter": "python",
   "pygments_lexer": "ipython3",
   "version": "3.12.0"
  }
 },
 "nbformat": 4,
 "nbformat_minor": 2
}
